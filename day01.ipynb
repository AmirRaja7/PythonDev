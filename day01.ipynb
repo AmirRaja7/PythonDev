{
 "cells": [
  {
   "cell_type": "code",
   "execution_count": 1,
   "metadata": {},
   "outputs": [
    {
     "name": "stdout",
     "output_type": "stream",
     "text": [
      "Hello\" Goal\" World!\n",
      "good \n",
      " good morinig \n",
      " crazy python \n",
      " code pyhton\n",
      "Adding Space between the words\n",
      "Hello! Amir\n"
     ]
    }
   ],
   "source": [
    "# Write your code below this line 👇\n",
    "print('Hello\" Goal\" World!')\n",
    "print(\"good \\n good morinig \\n crazy python \\n code pyhton\")\n",
    "print(\"Adding Space\" + \" \" + \"between the words\")\n",
    "\n",
    "# Python Input functions\n",
    "\n",
    "# This will ask the user to print anything and that will be handled as string\n",
    "input(\"What is your name?\")\n",
    "\n",
    "# python input function embedded with string\n",
    "print(\"Hello!\", input(\"What is your name?\"))"
   ]
  }
 ],
 "metadata": {
  "kernelspec": {
   "display_name": "Python 3",
   "language": "python",
   "name": "python3"
  },
  "language_info": {
   "codemirror_mode": {
    "name": "ipython",
    "version": 3
   },
   "file_extension": ".py",
   "mimetype": "text/x-python",
   "name": "python",
   "nbconvert_exporter": "python",
   "pygments_lexer": "ipython3",
   "version": "3.10.8"
  }
 },
 "nbformat": 4,
 "nbformat_minor": 2
}
