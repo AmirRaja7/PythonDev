{
 "cells": [
  {
   "cell_type": "markdown",
   "metadata": {},
   "source": [
    "### **Day 03 Python Learning**"
   ]
  },
  {
   "cell_type": "markdown",
   "metadata": {},
   "source": [
    "# **BMI Calculator**"
   ]
  },
  {
   "cell_type": "code",
   "execution_count": 19,
   "metadata": {},
   "outputs": [
    {
     "name": "stdout",
     "output_type": "stream",
     "text": [
      "Please write your Height\n",
      "Please write your Weight\n",
      "Your Height is 1.65, your Weight is 72, and your BMI is 26\n"
     ]
    }
   ],
   "source": [
    "# 1st input: enter height in meters e.g: 1.65\n",
    "# height = input(print(\"Please write your Height\"))\n",
    "height = input(print(\"Please write your Height\"))\n",
    "\n",
    "# 2nd input: enter weight in kilograms e.g: 72\n",
    "weight = input(print(\"Please write your Weight\"))\n",
    "# 🚨 Don't change the code above 👆\n",
    "\n",
    "# # Write your code below this line 👇\n",
    "\n",
    "# Converting the input values from str to int/ float\n",
    "height_as_float = float(height)\n",
    "weight_as_int = int(weight)\n",
    "\n",
    "\n",
    "# and writing the BMI formula\n",
    "# bmi = weight_as_int/ (height_as_float * height_as_float)\n",
    "\n",
    "# you can use either code above or below\n",
    "bmi = weight_as_int / (height_as_float**2)\n",
    "bmi = round(bmi)\n",
    "\n",
    "# converting the float output into int\n",
    "print(f\"Your Height is {height}, your Weight is {weight}, and your BMI is {bmi}\")"
   ]
  },
  {
   "cell_type": "markdown",
   "metadata": {},
   "source": [
    "# **Age in Months and Weeks Calculator**"
   ]
  },
  {
   "cell_type": "code",
   "execution_count": 21,
   "metadata": {},
   "outputs": [
    {
     "name": "stdout",
     "output_type": "stream",
     "text": [
      "You have 3016 weeks left.\n"
     ]
    }
   ],
   "source": [
    "age = input()\n",
    "# 🚨 Don't change the code above 👆\n",
    "# Write your code below this line 👇\n",
    "\n",
    "# converting the Input into float value\n",
    "age = float(age)\n",
    "\n",
    "# Subtracting the age from the reference age\n",
    "age_to_enjoy = age - 90\n",
    "\n",
    "# we will get a -ve output so we need to convert it into +ve output\n",
    "age_to_enjoy = -1 * age_to_enjoy\n",
    "\n",
    "# converting the years in weeks\n",
    "age_in_weeks = age_to_enjoy * 52\n",
    "\n",
    "\n",
    "# rounding off the age\n",
    "age_in_weeks = round(age_in_weeks)\n",
    "\n",
    "# pringint the results using f-string\n",
    "print(f\"You have {age_in_weeks} weeks left.\")\n",
    "# print(f\"If your age is {age} years then you have {age_to_enjoy} weeks left of your precious live. \\nEnjoy your Life.\")\n",
    "\n",
    "# printing the results in weeks using round()"
   ]
  },
  {
   "cell_type": "markdown",
   "metadata": {},
   "source": [
    "## **Bill Calculator**"
   ]
  },
  {
   "cell_type": "code",
   "execution_count": 28,
   "metadata": {},
   "outputs": [
    {
     "name": "stdout",
     "output_type": "stream",
     "text": [
      "The bill for each person is: $ 36.0\n",
      "Thank you!\n",
      "Have a good night!\n"
     ]
    }
   ],
   "source": [
    "# Bill Calculator\n",
    "# Total bill input variable\n",
    "total_bill = float(input(\"What is the total bill?\\n\"))\n",
    "\n",
    "# Tip percentage input variable\n",
    "tip_percentage = float(input(\"How much tip you want to give? 10%, 15%, or 20%\\n\"))\n",
    "tip = tip_percentage * (total_bill / 100)\n",
    "\n",
    "# number of persons to split the bill\n",
    "number_of_persons = int(input(\"How many Persons to split the bill?\\n\"))\n",
    "\n",
    "calculator = (float((total_bill + tip)/number_of_persons))\n",
    "# convert the number to 2 digits after decimal\n",
    "calculator = round(calculator, 2)\n",
    "\n",
    "print(\"The bill for each person is: $\", calculator)\n",
    "print(\"Thank you!\\nHave a good night!\")"
   ]
  },
  {
   "cell_type": "code",
   "execution_count": 24,
   "metadata": {},
   "outputs": [
    {
     "name": "stdout",
     "output_type": "stream",
     "text": [
      "12.94\n"
     ]
    }
   ],
   "source": [
    "# rounding off the number after decimal to a required digits\n",
    "num = 12.9384872873873\n",
    "print(round(num, 2))\n",
    "\n",
    "\n",
    "print(len(\"Hellow\"))\n",
    "print(\"Hello\"[-1])\n",
    "print(\"Hello\"[1])\n",
    "\n",
    "# concatinating two strings\n",
    "print(\"92110\" + \"7241\")\n",
    "\n",
    "# python ignores the underscore between the numbers\n",
    "print(123_345_883)\n",
    "# Adding two float numbers\n",
    "print(21.934 + 81935.0021)\n",
    "\n",
    "# printing all values of a string\n",
    "print(\"Hello\"[:])\n",
    "\n",
    "# New Concept_02\n",
    "# Type Casting of diff data Types\n",
    "num_char = input(\"What is the name of your City?\\n\")\n",
    "\n",
    "# Finding the data type of the above variable\n",
    "print(type(num_char))\n",
    "\n",
    "# The data Type for the variable above is Int\n",
    "# converting the \"int\" data type into \"Str\"\n",
    "num_char_str = str(num_char)\n",
    "\n",
    "print(\"Your city\", num_char, \"has\", len(num_char_str), \"characters\")"
   ]
  }
 ],
 "metadata": {
  "kernelspec": {
   "display_name": "Python 3",
   "language": "python",
   "name": "python3"
  },
  "language_info": {
   "codemirror_mode": {
    "name": "ipython",
    "version": 3
   },
   "file_extension": ".py",
   "mimetype": "text/x-python",
   "name": "python",
   "nbconvert_exporter": "python",
   "pygments_lexer": "ipython3",
   "version": "3.10.8"
  }
 },
 "nbformat": 4,
 "nbformat_minor": 2
}
