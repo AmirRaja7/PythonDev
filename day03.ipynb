{
 "cells": [
  {
   "cell_type": "markdown",
   "metadata": {},
   "source": [
    "# **Rollercoaster Ride Calculator**"
   ]
  },
  {
   "cell_type": "code",
   "execution_count": 4,
   "metadata": {},
   "outputs": [
    {
     "name": "stdout",
     "output_type": "stream",
     "text": [
      "Welcome to the rollercoaster!\n",
      "You can ride the rollercoaster!\n",
      "Your Bill is 12$.\n",
      "Please enjoy your ride\n",
      "Your total bill is $12\n"
     ]
    }
   ],
   "source": [
    "print(\"Welcome to the rollercoaster!\")\n",
    "height = int(input(\"What is your height in cm? \"))\n",
    "bill = 0\n",
    "if height >= 120:\n",
    "    print(\"You can ride the rollercoaster!\")\n",
    "    age = int(input(\"What is your age?\\n\"))\n",
    "    if age <= 18:\n",
    "        bill += 7\n",
    "        print(\"Your Bill is 7$.\")\n",
    "        print(\"Please enjoy your ride\")\n",
    "    elif age > 18 and age <= 25:\n",
    "        bill += 10\n",
    "        print(\"Your Bill is 10$.\")\n",
    "        print(\"Please enjoy your ride\")\n",
    "    else:\n",
    "        bill += 12\n",
    "        print(\"Your Bill is 12$.\")\n",
    "        print(\"Please enjoy your ride\")\n",
    "    photo_var = input(\"Do you want a photo? Y or N\\n\")\n",
    "    if photo_var == \"y\":\n",
    "        # bill= bill + 3\n",
    "        bill += 3\n",
    "    print(f\"Your total bill is ${bill}\")\n",
    "else:\n",
    "    print(\"Sorry, you have to grow taller before you can ride.\")"
   ]
  },
  {
   "cell_type": "code",
   "execution_count": 13,
   "metadata": {},
   "outputs": [
    {
     "name": "stdout",
     "output_type": "stream",
     "text": [
      "Welcome to the rollercoaster!\n",
      "You can ride the rollercoaster!\n",
      "You can enjoy the ride for FREE! Enjoy your Ride!\n",
      "Your total bill is $0\n"
     ]
    }
   ],
   "source": [
    "print(\"Welcome to the rollercoaster!\")\n",
    "height = int(input(\"What is your height in cm? \"))\n",
    "bill = 0\n",
    "if height >= 120:\n",
    "    print(\"You can ride the rollercoaster!\")\n",
    "    age = int(input(\"What is your age?\\n\"))\n",
    "    if age <= 18:\n",
    "        bill += 7\n",
    "        print(\"Your Bill is 7$.\")\n",
    "        print(\"Please enjoy your ride\")\n",
    "    elif age > 18 and age <= 25:\n",
    "        bill += 10\n",
    "        print(\"Your Bill is 10$.\")\n",
    "        print(\"Please enjoy your ride\")\n",
    "    elif age >= 45 and age <= 55:\n",
    "        print(\"You can enjoy the ride for FREE! Enjoy your Ride!\")\n",
    "    else:\n",
    "        bill += 12\n",
    "        print(\"Your Bill is 12$.\")\n",
    "        print(\"Please enjoy your ride\")\n",
    "    photo_var = input(\"Do you want a photo? Y or N\\n\")\n",
    "    if photo_var == \"y\":\n",
    "        # bill= bill + 3\n",
    "        bill += 3\n",
    "    print(f\"Your total bill is ${bill}\")\n",
    "else:\n",
    "    print(\"Sorry, you have to grow taller before you can ride.\")"
   ]
  },
  {
   "cell_type": "markdown",
   "metadata": {},
   "source": [
    "# **Even or Odd finder**"
   ]
  },
  {
   "cell_type": "code",
   "execution_count": 5,
   "metadata": {},
   "outputs": [
    {
     "name": "stdout",
     "output_type": "stream",
     "text": [
      "This 25 is an odd number.\n"
     ]
    }
   ],
   "source": [
    "# Even or Odd Number finder\n",
    "# Which number do you want to check?\n",
    "number = int(input())\n",
    "# 🚨 Don't change the code above 👆\n",
    "\n",
    "# If Else Statements and Nested If else Statements\n",
    "# Write your code below this line 👇\n",
    "if number % 2 == 0:\n",
    "    # % means remainder after dividing a number by another number\n",
    "    # print(f\"The number {number} is an even number.\")\n",
    "    print(f\"This {number} is an even number.\")\n",
    "else:\n",
    "    # print(f\"The number {number} is an odd number\")\n",
    "    print(f\"This {number} is an odd number.\")"
   ]
  },
  {
   "cell_type": "markdown",
   "metadata": {},
   "source": [
    "# **Nested If else statements**"
   ]
  },
  {
   "cell_type": "code",
   "execution_count": 8,
   "metadata": {},
   "outputs": [
    {
     "name": "stdout",
     "output_type": "stream",
     "text": [
      " The year 2024 is a Leap year\n"
     ]
    }
   ],
   "source": [
    "# Which year do you want to check?\n",
    "year = int(input(\"Please write a year\"))\n",
    "# 🚨 Don't change the code above 👆\n",
    "\n",
    "# Write your code below this line 👇\n",
    "\n",
    "# if the year is divisible by 4\n",
    "if year % 4 == 0:\n",
    "    # if yes we need to further check if the year is divisible by 100\n",
    "    if year % 100 == 0:\n",
    "        # if yes we need to further check if the year is divisible by 400\n",
    "        if year % 400 == 0:\n",
    "            # if all three conditions are fulfilled that it is a \"Leap year\"\n",
    "            print(f\" The year {year} is a Leap year\")\n",
    "        else:\n",
    "            # if the year is not divisible by 400 that it is not a \"Leap year\"\n",
    "            print(f\" The year {year} is a Not leap year\")\n",
    "    else:\n",
    "        # if it is divisible by 4 but not by 100 that it is a \"Leap year\"\n",
    "        print(f\" The year {year} is a Leap year\")\n",
    "else:\n",
    "    # if it is not divisible by 4 that it is not a \"Leap year\"\n",
    "    print(f\" The year {year} is a Not leap year\")"
   ]
  },
  {
   "cell_type": "markdown",
   "metadata": {},
   "source": [
    "# **Pizza Delivery using nested if else statements**"
   ]
  },
  {
   "cell_type": "code",
   "execution_count": 12,
   "metadata": {},
   "outputs": [
    {
     "name": "stdout",
     "output_type": "stream",
     "text": [
      "Thank you for choosing Python Pizza Deliveries!\n",
      "Your final bill is: $29.\n"
     ]
    }
   ],
   "source": [
    "print(\"Thank you for choosing Python Pizza Deliveries!\")\n",
    "size = input(\"What size pizza do you want? S, M, or L\")  # What size pizza do you want? S, M, or L\n",
    "add_pepperoni = input(\"Do you want pepperoni? Y or N\")  # Do you want pepperoni? Y or N\n",
    "extra_cheese = input(\"Do you want extra cheese? Y or N\")  # Do you want extra cheese? Y or N\n",
    "# 🚨 Don't change the code above 👆\n",
    "# Write your code below this line 👇\n",
    "\n",
    "bill = 0\n",
    "if size == \"S\":\n",
    "    bill = 15\n",
    "\n",
    "elif size == \"M\":\n",
    "    bill = 20\n",
    "\n",
    "elif size == \"L\":\n",
    "    bill = 25\n",
    "\n",
    "if add_pepperoni == \"Y\":\n",
    "    if size == \"S\":\n",
    "        bill += 2\n",
    "    else:\n",
    "        bill += 3\n",
    "\n",
    "if extra_cheese == \"Y\":\n",
    "    bill += 1\n",
    "    print(f\"Your final bill is: ${bill}.\")\n",
    "else:\n",
    "    print(f\"Your final bill is: ${bill}.\")"
   ]
  },
  {
   "cell_type": "markdown",
   "metadata": {},
   "source": [
    "# **Love Calculator using if else logic**"
   ]
  },
  {
   "cell_type": "markdown",
   "metadata": {},
   "source": [
    "# Some name combinations for Love calculator\n",
    "* Brad Pitt\tJennifer Aniston\t73\n",
    "* Prince William\tKate Middleton\t67\n",
    "* Ashton Kutcher\tMila Kunis\t63\n",
    "* Angela Yu\tJack Bauer\t53\n",
    "* David Beckham\tVictoria Beckham\t45\n",
    "* Mario\tPrincess Peach\t43\n",
    "* Kanye West\tKim Kardashian\t42"
   ]
  },
  {
   "cell_type": "code",
   "execution_count": 1,
   "metadata": {},
   "outputs": [
    {
     "name": "stdout",
     "output_type": "stream",
     "text": [
      "The Love Calculator is calculating your score...\n",
      "Your score is 73.\n"
     ]
    }
   ],
   "source": [
    "print(\"The Love Calculator is calculating your score...\")\n",
    "name1 = input(\"Please write the First name\")  # What is your name?\n",
    "name2 = input(\"Please write the Second name\")  # What is their name?\n",
    "# 🚨 Don't change the code above 👆\n",
    "# Write your code below this line 👇\n",
    "tl = \"true love\"\n",
    "\n",
    "# combiining the names of both of the input\n",
    "names = name1 + name2\n",
    "# converting the input into lower to make it case insensitive\n",
    "names = names.lower()\n",
    "\n",
    "t = names.count(\"t\")\n",
    "r = names.count(\"r\")\n",
    "u = names.count(\"u\")\n",
    "e = names.count(\"e\")\n",
    "# Adding the letters in \"true\"\n",
    "first_digit = t + r + u + e\n",
    "\n",
    "# Counting the letters in \"Love\"\n",
    "l = names.count(\"l\")\n",
    "o = names.count(\"o\")\n",
    "v = names.count(\"v\")\n",
    "e = names.count(\"e\")\n",
    "\n",
    "# adding the letters in \"Love\"\n",
    "second_digit = l + o + v + e\n",
    "\n",
    "# converting the int into str  and combining the score\n",
    "result = str(first_digit) + str(second_digit)\n",
    "# converting the str into int\n",
    "result = int(result)\n",
    "\n",
    "# printing the statements using if-else logic\n",
    "if result < 10 or result > 90:\n",
    "    print(f\"Your score is {result}, you go together like coke and mentos.\")\n",
    "elif result > 40 and result < 50:\n",
    "    print(f\"Your score is {result}, you are alright together.\")\n",
    "else:\n",
    "    print(f\"Your score is {result}.\")"
   ]
  },
  {
   "cell_type": "markdown",
   "metadata": {},
   "source": [
    "# Treasure Island"
   ]
  },
  {
   "cell_type": "code",
   "execution_count": 6,
   "metadata": {},
   "outputs": [
    {
     "name": "stdout",
     "output_type": "stream",
     "text": [
      "\n",
      "*******************************************************************************\n",
      "          |                   |                  |                     |\n",
      " _________|________________.=\"\"_;=.______________|_____________________|_______\n",
      "|                   |  ,-\"_,=\"\"     `\"=.|                  |\n",
      "|___________________|__\"=._o`\"-._        `\"=.______________|___________________\n",
      "          |                `\"=._o`\"=._      _`\"=._                     |\n",
      " _________|_____________________:=._o \"=._.\"_.-=\"'\"=.__________________|_______\n",
      "|                   |    __.--\" , ; `\"=._o.\" ,-\"\"\"-._ \".   |\n",
      "|___________________|_._\"  ,. .` ` `` ,  `\"-._\"-._   \". '__|___________________\n",
      "          |           |o`\"=._` , \"` `; .\". ,  \"-._\"-._; ;              |\n",
      " _________|___________| ;`-.o`\"=._; .\" ` '`.\"\\` . \"-._ /_______________|_______\n",
      "|                   | |o;    `\"-.o`\"=._``  '` \" ,__.--o;   |\n",
      "|___________________|_| ;     (#) `-.o `\"=.`_.--\"_o.-; ;___|___________________\n",
      "____/______/______/___|o;._    \"      `\".o|o_.--\"    ;o;____/______/______/____\n",
      "/______/______/______/_\"=._o--._        ; | ;        ; ;/______/______/______/_\n",
      "____/______/______/______/__\"=._o--._   ;o|o;     _._;o;____/______/______/____\n",
      "/______/______/______/______/____\"=._o._; | ;_.--\"o.--\"_/______/______/______/_\n",
      "____/______/______/______/______/_____\"=.o|o_.--\"\"___/______/______/______/____\n",
      "/______/______/______/______/______/______/______/______/______/______/_____ /\n",
      "*******************************************************************************\n",
      "\n",
      "Welcome to Treasure Island.\n",
      "Your mission is to find the treasure.\n",
      "You have come to a lake. There is an island in the middle of the lake.\n",
      "You arrive at the island unharmed.\n",
      "You found the treasure! You Win!\n"
     ]
    }
   ],
   "source": [
    "print(\n",
    "    '''\n",
    "*******************************************************************************\n",
    "          |                   |                  |                     |\n",
    " _________|________________.=\"\"_;=.______________|_____________________|_______\n",
    "|                   |  ,-\"_,=\"\"     `\"=.|                  |\n",
    "|___________________|__\"=._o`\"-._        `\"=.______________|___________________\n",
    "          |                `\"=._o`\"=._      _`\"=._                     |\n",
    " _________|_____________________:=._o \"=._.\"_.-=\"'\"=.__________________|_______\n",
    "|                   |    __.--\" , ; `\"=._o.\" ,-\"\"\"-._ \".   |\n",
    "|___________________|_._\"  ,. .` ` `` ,  `\"-._\"-._   \". '__|___________________\n",
    "          |           |o`\"=._` , \"` `; .\". ,  \"-._\"-._; ;              |\n",
    " _________|___________| ;`-.o`\"=._; .\" ` '`.\"\\` . \"-._ /_______________|_______\n",
    "|                   | |o;    `\"-.o`\"=._``  '` \" ,__.--o;   |\n",
    "|___________________|_| ;     (#) `-.o `\"=.`_.--\"_o.-; ;___|___________________\n",
    "____/______/______/___|o;._    \"      `\".o|o_.--\"    ;o;____/______/______/____\n",
    "/______/______/______/_\"=._o--._        ; | ;        ; ;/______/______/______/_\n",
    "____/______/______/______/__\"=._o--._   ;o|o;     _._;o;____/______/______/____\n",
    "/______/______/______/______/____\"=._o._; | ;_.--\"o.--\"_/______/______/______/_\n",
    "____/______/______/______/______/_____\"=.o|o_.--\"\"___/______/______/______/____\n",
    "/______/______/______/______/______/______/______/______/______/______/_____ /\n",
    "*******************************************************************************\n",
    "'''\n",
    ")\n",
    "print(\"Welcome to Treasure Island.\")\n",
    "print(\"Your mission is to find the treasure.\")\n",
    "\n",
    "# https://www.draw.io/?lightbox=1&highlight=0000ff&edit=_blank&layers=1&nav=1&title=Treasure%20Island%20Conditional.drawio#Uhttps%3A%2F%2Fdrive.google.com%2Fuc%3Fid%3D1oDe4ehjWZipYRsVfeAx2HyB7LCQ8_Fvi%26export%3Ddownload\n",
    "\n",
    "# Write your code below this line 👇\n",
    "\n",
    "# writing the if/else logic for the solution\n",
    "\n",
    "# assigning 3 variables to 3 diff choices \n",
    "first_choice = input(\n",
    "    \"You are at a crossroad. Where do you want to go? Type 'left' or 'right'\\n.\"\n",
    ")\n",
    "second_choice = input(\"Type 'wait' to wait or 'swim' to swim.\\n \")\n",
    "third_choice = input(\"You arrive at the island unharmed. There is a house with 3 doors. One red, one yellow.\\n\")\n",
    "\n",
    "if first_choice == \"left\":\n",
    "    print(\"You have come to a lake. There is an island in the middle of the lake.\")\n",
    "    if second_choice == \"wait\":\n",
    "        print(\"You arrive at the island unharmed.\")\n",
    "        if third_choice == \"yellow\":\n",
    "            print(\"You found the treasure! You Win!\")\n",
    "        elif third_choice == \"red\":\n",
    "            print(\"It's a room full of fire. Game Over.\")\n",
    "        else:\n",
    "            print(\"You enter a room of beasts. Game Over.\")\n",
    "    else:\n",
    "        print(\"You have been attacked by an angry trout. Game Over.\")\n",
    "else:\n",
    "    print(\"You have fallen into a hole. Game Over\")"
   ]
  }
 ],
 "metadata": {
  "kernelspec": {
   "display_name": "Python 3",
   "language": "python",
   "name": "python3"
  },
  "language_info": {
   "codemirror_mode": {
    "name": "ipython",
    "version": 3
   },
   "file_extension": ".py",
   "mimetype": "text/x-python",
   "name": "python",
   "nbconvert_exporter": "python",
   "pygments_lexer": "ipython3",
   "version": "3.10.8"
  }
 },
 "nbformat": 4,
 "nbformat_minor": 2
}
